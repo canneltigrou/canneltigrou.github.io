{
  "nbformat": 4,
  "nbformat_minor": 0,
  "metadata": {
    "kernelspec": {
      "display_name": "Python 3",
      "language": "python",
      "name": "python3"
    },
    "language_info": {
      "codemirror_mode": {
        "name": "ipython",
        "version": 3
      },
      "file_extension": ".py",
      "mimetype": "text/x-python",
      "name": "python",
      "nbconvert_exporter": "python",
      "pygments_lexer": "ipython3",
      "version": "3.7.4"
    },
    "colab": {
      "name": "BinaryClassificationOnImbalencedData.ipynb",
      "provenance": [],
      "collapsed_sections": [
        "ePhfHuc7WP_o",
        "Lx1chpT-WP_q",
        "ji3QxdUiWP_q"
      ],
      "include_colab_link": true
    }
  },
  "cells": [
    {
      "cell_type": "markdown",
      "metadata": {
        "id": "view-in-github",
        "colab_type": "text"
      },
      "source": [
        "<a href=\"https://colab.research.google.com/github/canneltigrou/canneltigrou.github.io/blob/master/JupyterNotebooks/BinaryClassificationOnImbalencedData.ipynb\" target=\"_parent\"><img src=\"https://colab.research.google.com/assets/colab-badge.svg\" alt=\"Open In Colab\"/></a>"
      ]
    },
    {
      "cell_type": "markdown",
      "metadata": {
        "id": "SKo077KEWP_W"
      },
      "source": [
        "# Data Science Challenge"
      ]
    },
    {
      "cell_type": "markdown",
      "metadata": {
        "id": "38JWCDFGWP_d"
      },
      "source": [
        "## Subject\n",
        "Welcome!  \n",
        "  \n",
        "Today you embark on one of perhaps the most daring adventures you will ever\n",
        "experience. A challenge not even the greatest warriors of modern history could have\n",
        "dreamed of accomplishing. And upon the completion of this challenge - if it does not\n",
        "destroy you first - you will rise a champion, and will move to the subsequent\n",
        "interview step for XXX. In this challenge, we will test every aspect of your data\n",
        "science and programming skills, and in order to succeed you must prove your agility\n",
        "and knowledge in a great number of varied fields.  \n",
        "\n",
        "**Building a model**\n",
        "Description: You are provided a CSV dataset file with multiple predictor variables\n",
        "and a single target variable. Your goal is to build a model that takes as input\n",
        "predictors and outputs a predicted Y-value.  \n",
        "Dataset:  \n",
        "https://drive.google.com/file/d/1H50WZNXcpN_Wy2e8uRxwfeSoEZJ2f5Th/view?usp=sharing \n",
        "  \n",
        "*Important: Thoroughly comment your script or notebook : data exploration, feature\n",
        "engineering, model selection, evaluation metrics... all your steps should be clearly\n",
        "explained! In this quest, the quality of your code and thought process is more\n",
        "important than the end results, i.e. the actual score of the model.\n",
        "You can use any language, libraries and algorithms of your choice.*  \n",
        "  \n",
        "**Submission**\n",
        "Upon receiving this assignment, you will have 3 hours to complete it. Please send\n",
        "your script / notebook and any other relevant document via email once you’re done\n",
        "with this exercise.  \n",
        "And that is the challenge. With this I wish you the best of luck, and hope to see you \n",
        "soon once you have vanquished"
      ]
    },
    {
      "cell_type": "markdown",
      "metadata": {
        "id": "2oRm3uK2WP_e"
      },
      "source": [
        "## Include the libraries"
      ]
    },
    {
      "cell_type": "code",
      "metadata": {
        "id": "cCcjj_LJWP_f",
        "outputId": "5ea8c85f-5412-4e1e-fbf1-853a4a0a83a4"
      },
      "source": [
        "import os\n",
        "import random\n",
        "import pandas as pd     # to manipulate files and dataframes\n",
        "\n",
        "# For the neural network:\n",
        "import keras\n",
        "from keras.models import Sequential\n",
        "from keras.layers import Dense, Activation, Dropout\n",
        "from keras.utils import np_utils\n",
        "from keras import backend as K\n",
        "\n",
        "import numpy as np\n",
        "import matplotlib as mpl\n",
        "import matplotlib.pyplot as plt\n",
        "import seaborn as sns\n",
        "\n",
        "import sklearn\n",
        "from sklearn.metrics import confusion_matrix\n",
        "from sklearn.model_selection import train_test_split\n",
        "from sklearn.preprocessing import StandardScaler\n",
        "from sklearn.preprocessing import MinMaxScaler\n",
        "\n",
        "\n",
        "from keras import __version__\n",
        "print('Using Keras version:', __version__, 'backend:', K.backend())"
      ],
      "execution_count": null,
      "outputs": [
        {
          "output_type": "stream",
          "text": [
            "Using TensorFlow backend.\n"
          ],
          "name": "stderr"
        },
        {
          "output_type": "stream",
          "text": [
            "Using Keras version: 2.3.1 backend: tensorflow\n"
          ],
          "name": "stdout"
        }
      ]
    },
    {
      "cell_type": "markdown",
      "metadata": {
        "id": "38IqYmjSWP_h"
      },
      "source": [
        "I set the seed to have always the same results"
      ]
    },
    {
      "cell_type": "code",
      "metadata": {
        "id": "hzclWhGVWP_h"
      },
      "source": [
        "from numpy.random import seed\n",
        "seed(42) \n",
        "\n",
        "from tensorflow import random\n",
        "random.set_seed(42)"
      ],
      "execution_count": null,
      "outputs": []
    },
    {
      "cell_type": "code",
      "metadata": {
        "id": "R0llX0eOWP_h"
      },
      "source": [
        "mpl.rcParams['figure.figsize'] = (12, 10)\n",
        "colors = plt.rcParams['axes.prop_cycle'].by_key()['color']"
      ],
      "execution_count": null,
      "outputs": []
    },
    {
      "cell_type": "markdown",
      "metadata": {
        "id": "hYJW4bgtWP_i"
      },
      "source": [
        "## Prepare the data"
      ]
    },
    {
      "cell_type": "markdown",
      "metadata": {
        "id": "d-luTxR0WP_i"
      },
      "source": [
        "### download the data"
      ]
    },
    {
      "cell_type": "code",
      "metadata": {
        "id": "WBrIgtCsWP_i"
      },
      "source": [
        "df = pd.read_csv('challenge_data_science.csv')\n"
      ],
      "execution_count": null,
      "outputs": []
    },
    {
      "cell_type": "markdown",
      "metadata": {
        "id": "5kdNWzwrWP_i"
      },
      "source": [
        "### let's explore a little the data"
      ]
    },
    {
      "cell_type": "code",
      "metadata": {
        "id": "GBNR6IIEWP_j",
        "outputId": "f2213464-b310-42f6-efa2-babd4515ec8e"
      },
      "source": [
        "df.head()"
      ],
      "execution_count": null,
      "outputs": [
        {
          "output_type": "execute_result",
          "data": {
            "text/html": [
              "<div>\n",
              "<style scoped>\n",
              "    .dataframe tbody tr th:only-of-type {\n",
              "        vertical-align: middle;\n",
              "    }\n",
              "\n",
              "    .dataframe tbody tr th {\n",
              "        vertical-align: top;\n",
              "    }\n",
              "\n",
              "    .dataframe thead th {\n",
              "        text-align: right;\n",
              "    }\n",
              "</style>\n",
              "<table border=\"1\" class=\"dataframe\">\n",
              "  <thead>\n",
              "    <tr style=\"text-align: right;\">\n",
              "      <th></th>\n",
              "      <th>Target variable Y</th>\n",
              "      <th>User id</th>\n",
              "      <th>Phone OS version</th>\n",
              "      <th>Phone device model</th>\n",
              "      <th>Countries</th>\n",
              "      <th>Gender</th>\n",
              "      <th>Year of birth</th>\n",
              "      <th>User source</th>\n",
              "      <th>User attribute 1</th>\n",
              "      <th>User attribute 2</th>\n",
              "      <th>User attribute 3</th>\n",
              "      <th>User attribute 4</th>\n",
              "      <th>User attribute 5</th>\n",
              "      <th>User attribute 6</th>\n",
              "      <th>User attribute 7</th>\n",
              "      <th>User attribute 8</th>\n",
              "      <th>User attribute 9</th>\n",
              "      <th>User attribute 10</th>\n",
              "      <th>User attribute 11</th>\n",
              "      <th>User attribute 12</th>\n",
              "    </tr>\n",
              "  </thead>\n",
              "  <tbody>\n",
              "    <tr>\n",
              "      <td>0</td>\n",
              "      <td>0</td>\n",
              "      <td>id61539</td>\n",
              "      <td>7.1.1</td>\n",
              "      <td>asus_ASUS_X00HD</td>\n",
              "      <td>FR</td>\n",
              "      <td>0</td>\n",
              "      <td>1997</td>\n",
              "      <td>NaN</td>\n",
              "      <td>21</td>\n",
              "      <td>0</td>\n",
              "      <td>1</td>\n",
              "      <td>0</td>\n",
              "      <td>0.000000</td>\n",
              "      <td>0.036145</td>\n",
              "      <td>0.0</td>\n",
              "      <td>83</td>\n",
              "      <td>0</td>\n",
              "      <td>NaN</td>\n",
              "      <td>0</td>\n",
              "      <td>0</td>\n",
              "    </tr>\n",
              "    <tr>\n",
              "      <td>1</td>\n",
              "      <td>0</td>\n",
              "      <td>id131313</td>\n",
              "      <td>7</td>\n",
              "      <td>samsung_SM-A310F</td>\n",
              "      <td>DK</td>\n",
              "      <td>0</td>\n",
              "      <td>1999</td>\n",
              "      <td>NaN</td>\n",
              "      <td>19</td>\n",
              "      <td>0</td>\n",
              "      <td>2</td>\n",
              "      <td>0</td>\n",
              "      <td>0.000000</td>\n",
              "      <td>0.529412</td>\n",
              "      <td>0.0</td>\n",
              "      <td>102</td>\n",
              "      <td>0</td>\n",
              "      <td>NaN</td>\n",
              "      <td>0</td>\n",
              "      <td>0</td>\n",
              "    </tr>\n",
              "    <tr>\n",
              "      <td>2</td>\n",
              "      <td>0</td>\n",
              "      <td>id57636</td>\n",
              "      <td>8.0.0</td>\n",
              "      <td>samsung_SM-G935F</td>\n",
              "      <td>SE</td>\n",
              "      <td>2</td>\n",
              "      <td>1996</td>\n",
              "      <td>NaN</td>\n",
              "      <td>22</td>\n",
              "      <td>0</td>\n",
              "      <td>1</td>\n",
              "      <td>0</td>\n",
              "      <td>0.031915</td>\n",
              "      <td>0.063830</td>\n",
              "      <td>0.0</td>\n",
              "      <td>94</td>\n",
              "      <td>0</td>\n",
              "      <td>NaN</td>\n",
              "      <td>0</td>\n",
              "      <td>1</td>\n",
              "    </tr>\n",
              "    <tr>\n",
              "      <td>3</td>\n",
              "      <td>0</td>\n",
              "      <td>id138112</td>\n",
              "      <td>8.0.0</td>\n",
              "      <td>samsung_SM-A600T</td>\n",
              "      <td>US</td>\n",
              "      <td>0</td>\n",
              "      <td>1976</td>\n",
              "      <td>NaN</td>\n",
              "      <td>42</td>\n",
              "      <td>0</td>\n",
              "      <td>2</td>\n",
              "      <td>1</td>\n",
              "      <td>0.000000</td>\n",
              "      <td>0.200000</td>\n",
              "      <td>0.0</td>\n",
              "      <td>50</td>\n",
              "      <td>0</td>\n",
              "      <td>NaN</td>\n",
              "      <td>0</td>\n",
              "      <td>1</td>\n",
              "    </tr>\n",
              "    <tr>\n",
              "      <td>4</td>\n",
              "      <td>0</td>\n",
              "      <td>id140462</td>\n",
              "      <td>7</td>\n",
              "      <td>samsung_SM-N920P</td>\n",
              "      <td>US</td>\n",
              "      <td>0</td>\n",
              "      <td>1989</td>\n",
              "      <td>Bidalgo - Facebook</td>\n",
              "      <td>29</td>\n",
              "      <td>0</td>\n",
              "      <td>2</td>\n",
              "      <td>2</td>\n",
              "      <td>0.028571</td>\n",
              "      <td>0.071429</td>\n",
              "      <td>0.0</td>\n",
              "      <td>70</td>\n",
              "      <td>0</td>\n",
              "      <td>NaN</td>\n",
              "      <td>0</td>\n",
              "      <td>0</td>\n",
              "    </tr>\n",
              "  </tbody>\n",
              "</table>\n",
              "</div>"
            ],
            "text/plain": [
              "   Target variable Y   User id Phone OS version Phone device model Countries  \\\n",
              "0                  0   id61539            7.1.1    asus_ASUS_X00HD        FR   \n",
              "1                  0  id131313                7   samsung_SM-A310F        DK   \n",
              "2                  0   id57636            8.0.0   samsung_SM-G935F        SE   \n",
              "3                  0  id138112            8.0.0   samsung_SM-A600T        US   \n",
              "4                  0  id140462                7   samsung_SM-N920P        US   \n",
              "\n",
              "   Gender  Year of birth         User source  User attribute 1  \\\n",
              "0       0           1997                 NaN                21   \n",
              "1       0           1999                 NaN                19   \n",
              "2       2           1996                 NaN                22   \n",
              "3       0           1976                 NaN                42   \n",
              "4       0           1989  Bidalgo - Facebook                29   \n",
              "\n",
              "   User attribute 2  User attribute 3  User attribute 4  User attribute 5  \\\n",
              "0                 0                 1                 0          0.000000   \n",
              "1                 0                 2                 0          0.000000   \n",
              "2                 0                 1                 0          0.031915   \n",
              "3                 0                 2                 1          0.000000   \n",
              "4                 0                 2                 2          0.028571   \n",
              "\n",
              "   User attribute 6  User attribute 7  User attribute 8  User attribute 9  \\\n",
              "0          0.036145               0.0                83                 0   \n",
              "1          0.529412               0.0               102                 0   \n",
              "2          0.063830               0.0                94                 0   \n",
              "3          0.200000               0.0                50                 0   \n",
              "4          0.071429               0.0                70                 0   \n",
              "\n",
              "  User attribute 10  User attribute 11  User attribute 12  \n",
              "0               NaN                  0                  0  \n",
              "1               NaN                  0                  0  \n",
              "2               NaN                  0                  1  \n",
              "3               NaN                  0                  1  \n",
              "4               NaN                  0                  0  "
            ]
          },
          "metadata": {
            "tags": []
          },
          "execution_count": 5
        }
      ]
    },
    {
      "cell_type": "code",
      "metadata": {
        "id": "6ipsDP_cWP_j",
        "outputId": "9bfa6234-5d4b-45f2-c6c6-b18dc72cc52b"
      },
      "source": [
        "df.describe()"
      ],
      "execution_count": null,
      "outputs": [
        {
          "output_type": "execute_result",
          "data": {
            "text/html": [
              "<div>\n",
              "<style scoped>\n",
              "    .dataframe tbody tr th:only-of-type {\n",
              "        vertical-align: middle;\n",
              "    }\n",
              "\n",
              "    .dataframe tbody tr th {\n",
              "        vertical-align: top;\n",
              "    }\n",
              "\n",
              "    .dataframe thead th {\n",
              "        text-align: right;\n",
              "    }\n",
              "</style>\n",
              "<table border=\"1\" class=\"dataframe\">\n",
              "  <thead>\n",
              "    <tr style=\"text-align: right;\">\n",
              "      <th></th>\n",
              "      <th>Target variable Y</th>\n",
              "      <th>Gender</th>\n",
              "      <th>Year of birth</th>\n",
              "      <th>User attribute 1</th>\n",
              "      <th>User attribute 2</th>\n",
              "      <th>User attribute 3</th>\n",
              "      <th>User attribute 4</th>\n",
              "      <th>User attribute 5</th>\n",
              "      <th>User attribute 6</th>\n",
              "      <th>User attribute 7</th>\n",
              "      <th>User attribute 8</th>\n",
              "      <th>User attribute 9</th>\n",
              "      <th>User attribute 11</th>\n",
              "      <th>User attribute 12</th>\n",
              "    </tr>\n",
              "  </thead>\n",
              "  <tbody>\n",
              "    <tr>\n",
              "      <td>count</td>\n",
              "      <td>9999.000000</td>\n",
              "      <td>9999.000000</td>\n",
              "      <td>9999.000000</td>\n",
              "      <td>9999.000000</td>\n",
              "      <td>9999.000000</td>\n",
              "      <td>9999.000000</td>\n",
              "      <td>9999.000000</td>\n",
              "      <td>9999.000000</td>\n",
              "      <td>9999.000000</td>\n",
              "      <td>9999.000000</td>\n",
              "      <td>9999.000000</td>\n",
              "      <td>9999.000000</td>\n",
              "      <td>9999.000000</td>\n",
              "      <td>9999.000000</td>\n",
              "    </tr>\n",
              "    <tr>\n",
              "      <td>mean</td>\n",
              "      <td>0.014901</td>\n",
              "      <td>0.392039</td>\n",
              "      <td>1989.784778</td>\n",
              "      <td>28.215222</td>\n",
              "      <td>0.021602</td>\n",
              "      <td>2.401140</td>\n",
              "      <td>0.721972</td>\n",
              "      <td>0.027241</td>\n",
              "      <td>0.165094</td>\n",
              "      <td>0.055006</td>\n",
              "      <td>74.493949</td>\n",
              "      <td>0.037804</td>\n",
              "      <td>0.350835</td>\n",
              "      <td>0.540254</td>\n",
              "    </tr>\n",
              "    <tr>\n",
              "      <td>std</td>\n",
              "      <td>0.121165</td>\n",
              "      <td>0.528750</td>\n",
              "      <td>11.395502</td>\n",
              "      <td>11.395502</td>\n",
              "      <td>0.158551</td>\n",
              "      <td>2.319327</td>\n",
              "      <td>0.844542</td>\n",
              "      <td>0.033359</td>\n",
              "      <td>0.111647</td>\n",
              "      <td>0.369055</td>\n",
              "      <td>49.215692</td>\n",
              "      <td>0.190731</td>\n",
              "      <td>0.477255</td>\n",
              "      <td>0.498402</td>\n",
              "    </tr>\n",
              "    <tr>\n",
              "      <td>min</td>\n",
              "      <td>0.000000</td>\n",
              "      <td>0.000000</td>\n",
              "      <td>1918.000000</td>\n",
              "      <td>12.000000</td>\n",
              "      <td>0.000000</td>\n",
              "      <td>0.000000</td>\n",
              "      <td>0.000000</td>\n",
              "      <td>0.000000</td>\n",
              "      <td>0.000000</td>\n",
              "      <td>0.000000</td>\n",
              "      <td>1.000000</td>\n",
              "      <td>0.000000</td>\n",
              "      <td>0.000000</td>\n",
              "      <td>0.000000</td>\n",
              "    </tr>\n",
              "    <tr>\n",
              "      <td>25%</td>\n",
              "      <td>0.000000</td>\n",
              "      <td>0.000000</td>\n",
              "      <td>1984.000000</td>\n",
              "      <td>20.000000</td>\n",
              "      <td>0.000000</td>\n",
              "      <td>1.000000</td>\n",
              "      <td>0.000000</td>\n",
              "      <td>0.000000</td>\n",
              "      <td>0.080745</td>\n",
              "      <td>0.000000</td>\n",
              "      <td>42.000000</td>\n",
              "      <td>0.000000</td>\n",
              "      <td>0.000000</td>\n",
              "      <td>0.000000</td>\n",
              "    </tr>\n",
              "    <tr>\n",
              "      <td>50%</td>\n",
              "      <td>0.000000</td>\n",
              "      <td>0.000000</td>\n",
              "      <td>1993.000000</td>\n",
              "      <td>25.000000</td>\n",
              "      <td>0.000000</td>\n",
              "      <td>2.000000</td>\n",
              "      <td>1.000000</td>\n",
              "      <td>0.018692</td>\n",
              "      <td>0.144578</td>\n",
              "      <td>0.000000</td>\n",
              "      <td>61.000000</td>\n",
              "      <td>0.000000</td>\n",
              "      <td>0.000000</td>\n",
              "      <td>1.000000</td>\n",
              "    </tr>\n",
              "    <tr>\n",
              "      <td>75%</td>\n",
              "      <td>0.000000</td>\n",
              "      <td>1.000000</td>\n",
              "      <td>1998.000000</td>\n",
              "      <td>34.000000</td>\n",
              "      <td>0.000000</td>\n",
              "      <td>3.000000</td>\n",
              "      <td>1.000000</td>\n",
              "      <td>0.041096</td>\n",
              "      <td>0.226467</td>\n",
              "      <td>0.000000</td>\n",
              "      <td>93.000000</td>\n",
              "      <td>0.000000</td>\n",
              "      <td>1.000000</td>\n",
              "      <td>1.000000</td>\n",
              "    </tr>\n",
              "    <tr>\n",
              "      <td>max</td>\n",
              "      <td>1.000000</td>\n",
              "      <td>2.000000</td>\n",
              "      <td>2006.000000</td>\n",
              "      <td>100.000000</td>\n",
              "      <td>3.000000</td>\n",
              "      <td>26.000000</td>\n",
              "      <td>4.000000</td>\n",
              "      <td>0.320513</td>\n",
              "      <td>1.000000</td>\n",
              "      <td>7.000000</td>\n",
              "      <td>976.000000</td>\n",
              "      <td>1.000000</td>\n",
              "      <td>1.000000</td>\n",
              "      <td>1.000000</td>\n",
              "    </tr>\n",
              "  </tbody>\n",
              "</table>\n",
              "</div>"
            ],
            "text/plain": [
              "       Target variable Y       Gender  Year of birth  User attribute 1  \\\n",
              "count        9999.000000  9999.000000    9999.000000       9999.000000   \n",
              "mean            0.014901     0.392039    1989.784778         28.215222   \n",
              "std             0.121165     0.528750      11.395502         11.395502   \n",
              "min             0.000000     0.000000    1918.000000         12.000000   \n",
              "25%             0.000000     0.000000    1984.000000         20.000000   \n",
              "50%             0.000000     0.000000    1993.000000         25.000000   \n",
              "75%             0.000000     1.000000    1998.000000         34.000000   \n",
              "max             1.000000     2.000000    2006.000000        100.000000   \n",
              "\n",
              "       User attribute 2  User attribute 3  User attribute 4  User attribute 5  \\\n",
              "count       9999.000000       9999.000000       9999.000000       9999.000000   \n",
              "mean           0.021602          2.401140          0.721972          0.027241   \n",
              "std            0.158551          2.319327          0.844542          0.033359   \n",
              "min            0.000000          0.000000          0.000000          0.000000   \n",
              "25%            0.000000          1.000000          0.000000          0.000000   \n",
              "50%            0.000000          2.000000          1.000000          0.018692   \n",
              "75%            0.000000          3.000000          1.000000          0.041096   \n",
              "max            3.000000         26.000000          4.000000          0.320513   \n",
              "\n",
              "       User attribute 6  User attribute 7  User attribute 8  User attribute 9  \\\n",
              "count       9999.000000       9999.000000       9999.000000       9999.000000   \n",
              "mean           0.165094          0.055006         74.493949          0.037804   \n",
              "std            0.111647          0.369055         49.215692          0.190731   \n",
              "min            0.000000          0.000000          1.000000          0.000000   \n",
              "25%            0.080745          0.000000         42.000000          0.000000   \n",
              "50%            0.144578          0.000000         61.000000          0.000000   \n",
              "75%            0.226467          0.000000         93.000000          0.000000   \n",
              "max            1.000000          7.000000        976.000000          1.000000   \n",
              "\n",
              "       User attribute 11  User attribute 12  \n",
              "count        9999.000000        9999.000000  \n",
              "mean            0.350835           0.540254  \n",
              "std             0.477255           0.498402  \n",
              "min             0.000000           0.000000  \n",
              "25%             0.000000           0.000000  \n",
              "50%             0.000000           1.000000  \n",
              "75%             1.000000           1.000000  \n",
              "max             1.000000           1.000000  "
            ]
          },
          "metadata": {
            "tags": []
          },
          "execution_count": 6
        }
      ]
    },
    {
      "cell_type": "code",
      "metadata": {
        "id": "iXDhUhj8WP_j",
        "outputId": "195bd323-41d4-41c5-c302-3ab93257715a"
      },
      "source": [
        "df.dtypes"
      ],
      "execution_count": null,
      "outputs": [
        {
          "output_type": "execute_result",
          "data": {
            "text/plain": [
              "Target variable Y       int64\n",
              "User id                object\n",
              "Phone OS version       object\n",
              "Phone device model     object\n",
              "Countries              object\n",
              "Gender                  int64\n",
              "Year of birth           int64\n",
              "User source            object\n",
              "User attribute 1        int64\n",
              "User attribute 2        int64\n",
              "User attribute 3        int64\n",
              "User attribute 4        int64\n",
              "User attribute 5      float64\n",
              "User attribute 6      float64\n",
              "User attribute 7      float64\n",
              "User attribute 8        int64\n",
              "User attribute 9        int64\n",
              "User attribute 10      object\n",
              "User attribute 11       int64\n",
              "User attribute 12       int64\n",
              "dtype: object"
            ]
          },
          "metadata": {
            "tags": []
          },
          "execution_count": 7
        }
      ]
    },
    {
      "cell_type": "markdown",
      "metadata": {
        "id": "dwXfcrvtWP_k"
      },
      "source": [
        "### Let's explore the data just a little bit more\n",
        "We have the first column \"Target variable Y\" which is the output we want to predict (let's call it \"Y\").\n",
        "It is an integer corresponding to a boolean value {0,1} with a huge majority of 0.  \n",
        "  \n",
        "We have 19 other columns (attributes) that can help us to predict the output Y.  \n",
        "And we have 9999 samples.  \n",
        "  \n",
        "The 2nd column is the user_id. It is an unique number corresponding to a user but doesn't caracterise this one, so I won't use it to predict Y.  \n",
        "  \n",
        "I also notice that the 9th column, called \"User attribute 1\" corresponds to the age of the user in 2018. I think it is redoundant with the column \"Year of birth\". Personally I prefer remove one of this two column. Unfortunately I don't know what does Y mean, so I am not sure which one is more relevant to keep. I would think that the age is more relevant.\n",
        "(So, for example if Y=1 means the person plays to a specific game, I think it is more likely because of his/her age. Maybe 10 years later, he/she will not play the game anymore but we can find new users playing this game that have the same age than he/she was)  \n",
        "So I decide to not use \"Year of birth\" as attribute.  \n",
        "  \n",
        "We can use the 17 other attributes as inputs:  \n",
        "\n",
        "* Phone OS version: categorical value\n",
        "* Phone device model: categorical value\n",
        "* Countries: categorical value\n",
        "* Gender: integer {0,1,2}\n",
        "* User source: categorical value\n",
        "* User attribute 1: age of the user in 2018 (integer)\n",
        "* User attribute 2: integer [0, 3]\n",
        "* User attribute 3: integer [0, 26]\n",
        "* User attribute 4: integer [0, 4]\n",
        "* User attribute 5: float [0,1]\n",
        "* User attribute 6: float [0, 1]\n",
        "* User attribute 7: float (even if it seems there are only integer) [0,7]\n",
        "* User attribute 8: integer\n",
        "* User attribute 9: integer {0,1}\n",
        "* User attribute 10: {\"fluent\", NaN} -> we could have recalled the column \"is fluent\" with the value {0,1}\n",
        "* User attribute 11: {0,1}\n",
        "* User attribute 12: {0,1}"
      ]
    },
    {
      "cell_type": "markdown",
      "metadata": {
        "id": "K-mxdg4pWP_k"
      },
      "source": [
        "### Preprocess the data\n",
        "\n",
        "#### creation of y_data and X_data\n",
        "Let's create y_data and X_data. \n",
        "* y_data is the first column 'Target variable Y'. shape =(9999,1)\n",
        "* X_data is the 17 features we have chosen, but we will transform the categorical features into numerical ones, and stadardize all the data.  \n",
        "shape=(9999,17)"
      ]
    },
    {
      "cell_type": "code",
      "metadata": {
        "id": "j6gNFROmWP_k"
      },
      "source": [
        "# return y_data (np_array), x_data(np_array) with only float and standardized features, \n",
        "# labels corresponding to the column names corresponding to x_data\n",
        "def preprocess_data(dataframe):\n",
        "    \n",
        "    # 1. first let's create the y_data: composed of the first column. (9999,1)\n",
        "    y_data = df['Target variable Y']\n",
        "    \n",
        "    \n",
        "    # 2. let's create the numpy array corresponding to the input X_data (9999,17)\n",
        "    # a) we will transform the categorical attributes into numbers.\n",
        "    # make a dataframe of all the categorical attributes\n",
        "    categorical_df = dataframe.select_dtypes(include=['object']).copy()\n",
        "    \n",
        "    # create maps for each categorigal attribute, with a number corresponding to each value. (I will not use \"User id\")\n",
        "    labels_Phone_OS_version = categorical_df['Phone OS version'].astype('category').cat.categories.tolist()\n",
        "    replace_map_Phone_OS_version = {'Phone OS version' : \n",
        "                                    {k: v for k,v in zip(labels_Phone_OS_version,list(range(1,len(labels_Phone_OS_version)+1)))}}\n",
        "    \n",
        "    labels_Phone_device_model = categorical_df['Phone device model'].astype('category').cat.categories.tolist()\n",
        "    replace_map_device_model = {'Phone device model' : \n",
        "                                {k: v for k,v in zip(labels_Phone_device_model,list(range(1,len(labels_Phone_device_model)+1)))}}\n",
        "\n",
        "    labels_Countries = categorical_df['Countries'].astype('category').cat.categories.tolist()\n",
        "    replace_map_Countries = {'Countries' : \n",
        "                             {k: v for k,v in zip(labels_Countries,list(range(1,len(labels_Countries)+1)))}}\n",
        "\n",
        "    categorical_df['User source'] = categorical_df['User source'].replace(np.nan, \"\")\n",
        "    labels_User_source = categorical_df['User source'].astype('category').cat.categories.tolist()\n",
        "    replace_map_User_source = {'User source' : \n",
        "                               {k: v for k,v in zip(labels_User_source,list(range(1,len(labels_User_source)+1)))}}\n",
        "\n",
        "    categorical_df['User attribute 10'] = categorical_df['User attribute 10'].replace(np.nan, \" \")\n",
        "    labels_User_attribute_10 = categorical_df['User attribute 10'].astype('category').cat.categories.tolist()\n",
        "    replace_map_User_attribute_10 = {'User attribute 10' : \n",
        "                                     {k: v for k,v in zip(labels_User_attribute_10,list(range(1,len(labels_User_attribute_10)+1)))}}\n",
        "    \n",
        "    # replace the categorical value by their corresponding number\n",
        "    categorical_df.replace(replace_map_Phone_OS_version, inplace=True)\n",
        "    categorical_df.replace(replace_map_device_model, inplace=True)\n",
        "    categorical_df.replace(replace_map_Countries, inplace=True)\n",
        "    categorical_df.replace(replace_map_User_source, inplace=True)\n",
        "    categorical_df.replace(replace_map_User_attribute_10, inplace=True)\n",
        "    \n",
        "    # create the dataframe with all the numerical attributes\n",
        "    numerical_df = pd.concat([categorical_df[['Phone OS version', 'Phone device model', \n",
        "                                              'Countries', 'User source', 'User attribute 10']], \n",
        "                              dataframe[['Gender','User attribute 1', 'User attribute 2', 'User attribute 3', \n",
        "                                         'User attribute 4', 'User attribute 5', 'User attribute 6', \n",
        "                                         'User attribute 7', 'User attribute 8', 'User attribute 9', \n",
        "                                         'User attribute 11', 'User attribute 12']]], axis = 1)\n",
        "    labels = numerical_df.columns\n",
        "    x_data = numerical_df.to_numpy()\n",
        "    \n",
        "    # b) Now we have the 17 attributes with only numerical values. \n",
        "    #    Let's normalized and standardize them to simplify the learning.\n",
        "    \n",
        "    # data normalisation\n",
        "    scaler1 = MinMaxScaler()\n",
        "    normalized_data = scaler1.fit_transform(numerical_df)\n",
        "    \n",
        "    # data standardization with sklearn\n",
        "    scaler2 = StandardScaler()\n",
        "    scaler2.fit(normalized_data)\n",
        "    x_data = scaler2.transform(normalized_data)\n",
        "    \n",
        "    return y_data, x_data, labels\n",
        "    \n",
        "    "
      ],
      "execution_count": null,
      "outputs": []
    },
    {
      "cell_type": "code",
      "metadata": {
        "id": "6MM_470dWP_m"
      },
      "source": [
        "y_data, x_data, labels = preprocess_data(df)"
      ],
      "execution_count": null,
      "outputs": []
    },
    {
      "cell_type": "code",
      "metadata": {
        "id": "1ArcXvDdWP_n",
        "outputId": "fa7f9a23-8f72-4498-f101-8c054b6f9d82"
      },
      "source": [
        "# let's print the 4 firsts samples of x_data and y_data\n",
        "print('x_data= \\n', x_data[0:4, :])\n",
        "print('y_data= \\n', y_data[0:4])"
      ],
      "execution_count": null,
      "outputs": [
        {
          "output_type": "stream",
          "text": [
            "x_data= \n",
            " [[-0.11149289  0.07864255 -1.0953365  -1.49946319 -0.18840161 -0.7414824\n",
            "  -0.63319568 -0.1362542  -0.60414511 -0.85491123 -0.81665604 -1.15502955\n",
            "  -0.14905145  0.17284073 -0.19821467 -0.73514666 -1.08402685]\n",
            " [-0.82726654  0.5009898  -1.54647187 -1.49946319 -0.18840161 -0.7414824\n",
            "  -0.80871231 -0.1362542  -0.17296403 -0.85491123 -0.81665604  3.26328561\n",
            "  -0.14905145  0.55891576 -0.19821467 -0.73514666 -1.08402685]\n",
            " [ 0.60428075  0.78786718  0.37085344 -1.49946319 -0.18840161  3.04121277\n",
            "  -0.54543736 -0.1362542  -0.60414511 -0.85491123  0.14010624 -0.90704634\n",
            "  -0.14905145  0.39635785 -0.19821467 -0.73514666  0.92248638]\n",
            " [ 0.60428075  0.54614643  0.70920496 -1.49946319 -0.18840161 -0.7414824\n",
            "   1.20972892 -0.1362542  -0.17296403  0.32922194 -0.81665604  0.31266365\n",
            "  -0.14905145 -0.49771065 -0.19821467 -0.73514666  0.92248638]]\n",
            "y_data= \n",
            " 0    0\n",
            "1    0\n",
            "2    0\n",
            "3    0\n",
            "Name: Target variable Y, dtype: int64\n"
          ],
          "name": "stdout"
        }
      ]
    },
    {
      "cell_type": "markdown",
      "metadata": {
        "id": "U3Vt9EhUWP_n"
      },
      "source": [
        "Let's see how much the data is imbalanced"
      ]
    },
    {
      "cell_type": "code",
      "metadata": {
        "id": "wo5RPshvWP_o",
        "outputId": "ae8a215d-4e7f-48ac-fb11-e9dc58a389ea"
      },
      "source": [
        "neg, pos = np.bincount(y_data)\n",
        "total = neg + pos\n",
        "print(' Total of samples: {}\\n Number of Positive Y: {} ({:.2f}% of total)\\n'.format\n",
        "      (total, pos, 100 * pos / total))"
      ],
      "execution_count": null,
      "outputs": [
        {
          "output_type": "stream",
          "text": [
            " Total of samples: 9999\n",
            " Number of Positive Y: 149 (1.49% of total)\n",
            "\n"
          ],
          "name": "stdout"
        }
      ]
    },
    {
      "cell_type": "markdown",
      "metadata": {
        "id": "ePhfHuc7WP_o"
      },
      "source": [
        "#### split the data into train / test dataset\n",
        "  \n",
        "We can split with 80% for training, and 20% for testing."
      ]
    },
    {
      "cell_type": "code",
      "metadata": {
        "id": "fEgn2VTKWP_p"
      },
      "source": [
        "X_train, X_test, y_train, y_test = train_test_split(x_data, y_data, train_size = 0.8) "
      ],
      "execution_count": null,
      "outputs": []
    },
    {
      "cell_type": "code",
      "metadata": {
        "id": "nuI5nWwgWP_p",
        "outputId": "1ac20c1b-b0d8-4ff5-fadf-6967cd768878"
      },
      "source": [
        "print('percentage of Positive Y into the training set: ', sum(y_train)/len(y_train)*100)\n",
        "print('percentage of Positive Y into the testing set: ', sum(y_test)/len(y_test)*100)\n",
        "print('percentage of Positive Y in total set: ',100 * pos/9999)"
      ],
      "execution_count": null,
      "outputs": [
        {
          "output_type": "stream",
          "text": [
            "percentage of Positive Y into the training set:  1.5626953369171148\n",
            "percentage of Positive Y into the testing set:  1.2\n",
            "percentage of Positive Y in total set:  1.4901490149014902\n"
          ],
          "name": "stdout"
        }
      ]
    },
    {
      "cell_type": "markdown",
      "metadata": {
        "id": "hPbbvUJJWP_p"
      },
      "source": [
        "the train_test_split function shuffles the data. We can check than we have almost the same proportion of Positive Y into the training set and testing set. But it will change if we run the train_test_split function again. It will also change the following results\n",
        "\n",
        "**Important:** There are ~1,5% of y=1.\n",
        "If I predict always y=0 I would have 98% of accuracy!\n",
        "So if we have a good neural network, **we MUST have a better accuracy than 98% !!!**\n"
      ]
    },
    {
      "cell_type": "markdown",
      "metadata": {
        "id": "-9B4SU8iWP_p"
      },
      "source": [
        "## train a neural network"
      ]
    },
    {
      "cell_type": "markdown",
      "metadata": {
        "id": "Lx1chpT-WP_q"
      },
      "source": [
        "#### build a model\n",
        "We have to predict Y as 0 or 1 so I will use 1 output neuron with a sigmoid, Losses: Binary-crossentropy and Adam Optimizer.\n",
        "\n",
        "As we have a lot of value Y = 0, I will prefere the metric recall (percentage of positif cases that the model predicts correctly) rather than the accuracy.\n",
        "\n",
        "For the other layers, I use ReLU activation."
      ]
    },
    {
      "cell_type": "code",
      "metadata": {
        "id": "gUukZZ2SWP_q",
        "outputId": "ae03a336-75ad-45f5-a46d-7170b5693877"
      },
      "source": [
        "model = Sequential()\n",
        "\n",
        "img_shape = X_test[0].shape\n",
        "print(img_shape)\n",
        "\n",
        "model.add(Dense(20, input_dim=17))\n",
        "model.add(Activation('relu'))\n",
        "model.add(Dense(20))\n",
        "model.add(Activation('relu'))\n",
        "model.add(Dense(20))\n",
        "model.add(Activation('relu'))\n",
        "model.add(Dense(10))\n",
        "model.add(Activation('relu'))\n",
        "\n",
        "# classification\n",
        "model.add(Dense(1, activation='sigmoid'))\n",
        "\n",
        "# Compile\n",
        "model.compile(loss='binary_crossentropy', \n",
        "              optimizer=keras.optimizers.adam(), \n",
        "              metrics=[keras.metrics.Recall(), 'accuracy'])\n",
        "\n",
        "# Print the model\n",
        "model.summary()"
      ],
      "execution_count": null,
      "outputs": [
        {
          "output_type": "stream",
          "text": [
            "(17,)\n",
            "Model: \"sequential_1\"\n",
            "_________________________________________________________________\n",
            "Layer (type)                 Output Shape              Param #   \n",
            "=================================================================\n",
            "dense_1 (Dense)              (None, 20)                360       \n",
            "_________________________________________________________________\n",
            "activation_1 (Activation)    (None, 20)                0         \n",
            "_________________________________________________________________\n",
            "dense_2 (Dense)              (None, 20)                420       \n",
            "_________________________________________________________________\n",
            "activation_2 (Activation)    (None, 20)                0         \n",
            "_________________________________________________________________\n",
            "dense_3 (Dense)              (None, 20)                420       \n",
            "_________________________________________________________________\n",
            "activation_3 (Activation)    (None, 20)                0         \n",
            "_________________________________________________________________\n",
            "dense_4 (Dense)              (None, 10)                210       \n",
            "_________________________________________________________________\n",
            "activation_4 (Activation)    (None, 10)                0         \n",
            "_________________________________________________________________\n",
            "dense_5 (Dense)              (None, 1)                 11        \n",
            "=================================================================\n",
            "Total params: 1,421\n",
            "Trainable params: 1,421\n",
            "Non-trainable params: 0\n",
            "_________________________________________________________________\n"
          ],
          "name": "stdout"
        }
      ]
    },
    {
      "cell_type": "markdown",
      "metadata": {
        "id": "ji3QxdUiWP_q"
      },
      "source": [
        "#### train the model on the training set\n"
      ]
    },
    {
      "cell_type": "code",
      "metadata": {
        "id": "RrXY703cWP_q",
        "outputId": "7b894df3-37a5-41d0-ee4b-7c98c2f4725a"
      },
      "source": [
        "history = model.fit(X_train, y_train, batch_size=320, epochs = 25, verbose = 1)"
      ],
      "execution_count": null,
      "outputs": [
        {
          "output_type": "stream",
          "text": [
            "Epoch 1/25\n",
            "7999/7999 [==============================] - 1s 69us/step - loss: 0.6193 - recall_1: 0.3120 - accuracy: 0.7123\n",
            "Epoch 2/25\n",
            "7999/7999 [==============================] - 0s 7us/step - loss: 0.2987 - recall_1: 0.0000e+00 - accuracy: 0.9837\n",
            "Epoch 3/25\n",
            "7999/7999 [==============================] - 0s 7us/step - loss: 0.1141 - recall_1: 0.0000e+00 - accuracy: 0.9844\n",
            "Epoch 4/25\n",
            "7999/7999 [==============================] - 0s 8us/step - loss: 0.0861 - recall_1: 0.0000e+00 - accuracy: 0.9844\n",
            "Epoch 5/25\n",
            "7999/7999 [==============================] - 0s 8us/step - loss: 0.0835 - recall_1: 0.0000e+00 - accuracy: 0.9844\n",
            "Epoch 6/25\n",
            "7999/7999 [==============================] - 0s 8us/step - loss: 0.0820 - recall_1: 0.0000e+00 - accuracy: 0.9844\n",
            "Epoch 7/25\n",
            "7999/7999 [==============================] - 0s 8us/step - loss: 0.0809 - recall_1: 0.0000e+00 - accuracy: 0.9844\n",
            "Epoch 8/25\n",
            "7999/7999 [==============================] - 0s 8us/step - loss: 0.0800 - recall_1: 0.0000e+00 - accuracy: 0.9844\n",
            "Epoch 9/25\n",
            "7999/7999 [==============================] - 0s 8us/step - loss: 0.0792 - recall_1: 0.0000e+00 - accuracy: 0.9844\n",
            "Epoch 10/25\n",
            "7999/7999 [==============================] - 0s 8us/step - loss: 0.0785 - recall_1: 0.0000e+00 - accuracy: 0.9844\n",
            "Epoch 11/25\n",
            "7999/7999 [==============================] - 0s 9us/step - loss: 0.0781 - recall_1: 0.0000e+00 - accuracy: 0.9844\n",
            "Epoch 12/25\n",
            "7999/7999 [==============================] - 0s 9us/step - loss: 0.0775 - recall_1: 0.0000e+00 - accuracy: 0.9844\n",
            "Epoch 13/25\n",
            "7999/7999 [==============================] - 0s 8us/step - loss: 0.0771 - recall_1: 0.0000e+00 - accuracy: 0.9844\n",
            "Epoch 14/25\n",
            "7999/7999 [==============================] - 0s 8us/step - loss: 0.0766 - recall_1: 0.0000e+00 - accuracy: 0.9844\n",
            "Epoch 15/25\n",
            "7999/7999 [==============================] - 0s 8us/step - loss: 0.0762 - recall_1: 0.0000e+00 - accuracy: 0.9844\n",
            "Epoch 16/25\n",
            "7999/7999 [==============================] - 0s 8us/step - loss: 0.0760 - recall_1: 0.0000e+00 - accuracy: 0.9844\n",
            "Epoch 17/25\n",
            "7999/7999 [==============================] - 0s 8us/step - loss: 0.0755 - recall_1: 0.0000e+00 - accuracy: 0.9844\n",
            "Epoch 18/25\n",
            "7999/7999 [==============================] - 0s 8us/step - loss: 0.0754 - recall_1: 0.0000e+00 - accuracy: 0.9844\n",
            "Epoch 19/25\n",
            "7999/7999 [==============================] - 0s 8us/step - loss: 0.0750 - recall_1: 0.0000e+00 - accuracy: 0.9844\n",
            "Epoch 20/25\n",
            "7999/7999 [==============================] - 0s 8us/step - loss: 0.0746 - recall_1: 0.0000e+00 - accuracy: 0.9844\n",
            "Epoch 21/25\n",
            "7999/7999 [==============================] - 0s 8us/step - loss: 0.0744 - recall_1: 0.0000e+00 - accuracy: 0.9844\n",
            "Epoch 22/25\n",
            "7999/7999 [==============================] - 0s 8us/step - loss: 0.0741 - recall_1: 0.0000e+00 - accuracy: 0.9844\n",
            "Epoch 23/25\n",
            "7999/7999 [==============================] - 0s 8us/step - loss: 0.0737 - recall_1: 0.0000e+00 - accuracy: 0.9844\n",
            "Epoch 24/25\n",
            "7999/7999 [==============================] - 0s 8us/step - loss: 0.0734 - recall_1: 0.0000e+00 - accuracy: 0.9844\n",
            "Epoch 25/25\n",
            "7999/7999 [==============================] - 0s 8us/step - loss: 0.0731 - recall_1: 0.0000e+00 - accuracy: 0.9844\n"
          ],
          "name": "stdout"
        }
      ]
    },
    {
      "cell_type": "markdown",
      "metadata": {
        "id": "0gSK_z21WP_r"
      },
      "source": [
        "Let's study the accuracy during the training\n"
      ]
    },
    {
      "cell_type": "code",
      "metadata": {
        "id": "DFDlBvHKWP_r",
        "outputId": "7ae26a43-cecb-425d-fbcf-be6069677a66"
      },
      "source": [
        "plt.figure(figsize=(11,3))\n",
        "\n",
        "# loss plot on the training set\n",
        "plt.subplot(1,3,1)\n",
        "plt.plot(history.epoch,history.history['loss'])\n",
        "plt.title('loss')\n",
        "\n",
        "# accuracy plot on the training set\n",
        "plt.subplot(1,3,2)\n",
        "plt.plot(history.epoch,history.history['recall_1'])\n",
        "plt.title('recall');\n",
        "\n",
        "# accuracy plot on the training set\n",
        "plt.subplot(1,3,3)\n",
        "plt.plot(history.epoch,history.history['accuracy'])\n",
        "plt.title('accuracy');"
      ],
      "execution_count": null,
      "outputs": [
        {
          "output_type": "display_data",
          "data": {
            "image/png": "[encoded data removed]",
            "text/plain": [
              "<Figure size 792x216 with 3 Axes>"
            ]
          },
          "metadata": {
            "tags": [],
            "needs_background": "light"
          }
        }
      ]
    },
    {
      "cell_type": "markdown",
      "metadata": {
        "id": "KdD3z6mQWP_r"
      },
      "source": [
        ""
      ]
    },
    {
      "cell_type": "code",
      "metadata": {
        "id": "7KXa4CdfWP_r"
      },
      "source": [
        ""
      ],
      "execution_count": null,
      "outputs": []
    },
    {
      "cell_type": "markdown",
      "metadata": {
        "id": "oX5q86vRWP_s"
      },
      "source": [
        "Let's see on the training set first"
      ]
    },
    {
      "cell_type": "code",
      "metadata": {
        "id": "r5ufCjb2WP_s",
        "outputId": "887229fa-a9d3-4fbb-b163-5ce495da708b"
      },
      "source": [
        "predictions = model.predict(X_train)\n",
        "y_pred = predictions > 0.5\n",
        "print(' [[TN, FP]\\n [ FN, TP]]\\n  =  \\n', confusion_matrix(y_train, y_pred))\n",
        "\n"
      ],
      "execution_count": null,
      "outputs": [
        {
          "output_type": "stream",
          "text": [
            " [[TN, FP]\n",
            " [ FN, TP]]\n",
            "  =  \n",
            " [[7874    0]\n",
            " [ 125    0]]\n"
          ],
          "name": "stdout"
        }
      ]
    },
    {
      "cell_type": "code",
      "metadata": {
        "id": "waeea6D-WP_s",
        "outputId": "03de1107-cdf1-47df-a740-4addedf651da"
      },
      "source": [
        "predictions = model.predict(X_test)\n",
        "y_pred = predictions > 0.5\n",
        "print(' [[TN, FP]\\n [ FN, TP]]\\n  =  \\n', confusion_matrix(y_test, y_pred))\n"
      ],
      "execution_count": null,
      "outputs": [
        {
          "output_type": "stream",
          "text": [
            " [[TN, FP]\n",
            " [ FN, TP]]\n",
            "  =  \n",
            " [[1976    0]\n",
            " [  24    0]]\n"
          ],
          "name": "stdout"
        }
      ]
    },
    {
      "cell_type": "markdown",
      "metadata": {
        "id": "oS5brvh-WP_s"
      },
      "source": [
        "### Conclusion\n",
        "I don't like the result, since even with the training set, the model always predict 0. It has a good accuracy only because there is not enough positive Y.\n",
        "\n",
        "I would like to train again with more data that contain y = 1.\n",
        "To do so, I will replicate several times some data from the training set where y=1.\n",
        "It can provoke overfitting, but we will verify it with the testing set"
      ]
    },
    {
      "cell_type": "markdown",
      "metadata": {
        "id": "n2eJ6ykdWP_t"
      },
      "source": [
        "## 2nd try, neural network with \"data augmentation\""
      ]
    },
    {
      "cell_type": "markdown",
      "metadata": {
        "id": "plp-SEFzWP_t"
      },
      "source": [
        "### Augment the training set with more y=1\n",
        "let's duplicate several times the data in X_train where y=1   \n",
        "1. let's find the data where y=1 in the training set"
      ]
    },
    {
      "cell_type": "code",
      "metadata": {
        "id": "JOtQDnf8WP_t"
      },
      "source": [
        "mask = y_train == 1 # array of true and false values corresponding to Y==1\n",
        "X_y1 = X_train[mask]  # we make an array of the X_train lines corresponding to Y=1"
      ],
      "execution_count": null,
      "outputs": []
    },
    {
      "cell_type": "markdown",
      "metadata": {
        "id": "woal1Ha8WP_t"
      },
      "source": [
        "2. let's duplicate this data and put them into X_train  \n",
        "I would like a better balance between y=1 and y = 0.  \n",
        "I would like to find the number of times (x) that I have to add a duplicate of X_y1 to obtain a certain percentage of (y=1).  \n",
        "  \n",
        "let's define:  \n",
        "**c_y**: count of y=1 before any changement: sum(y_train) | *known*  \n",
        "**T**: number of data in X_train (before any changement) | *known*  \n",
        "**N**: number of data after the changement | *unknown*  \n",
        "**p**: percentage of y=1 that we want after the changement | *known : we choose it*  \n",
        "**x**: the number of adding duplicates of X_y1 | *unknown*  \n",
        "\n",
        "\n",
        "$$ T + x * c_y = N  $$\n",
        "$$  (x * c_y + c_y) / N = p $$  \n",
        "  \n",
        "After a resolution we obtain:  \n",
        "$$ x = (T * p - c_y) / ((1 - p) * c_y) $$\n",
        "\n",
        "raise p to high can produce overfiting. We can try different values of p"
      ]
    },
    {
      "cell_type": "code",
      "metadata": {
        "id": "w4_UptUCWP_t"
      },
      "source": [
        "p = 0.33"
      ],
      "execution_count": null,
      "outputs": []
    },
    {
      "cell_type": "code",
      "metadata": {
        "id": "X0miiaQwWP_t"
      },
      "source": [
        "count_to_add = np.round((X_train.shape[0] * p - sum(y_train)) / ((1 - p) * sum(y_train)))"
      ],
      "execution_count": null,
      "outputs": []
    },
    {
      "cell_type": "code",
      "metadata": {
        "id": "jjmUlWFrWP_u"
      },
      "source": [
        "adding_y_train = np.ones(sum(y_train)) # the y samples corresponding to X_y1 (only y=1)"
      ],
      "execution_count": null,
      "outputs": []
    },
    {
      "cell_type": "code",
      "metadata": {
        "id": "3nJKVgcvWP_u"
      },
      "source": [
        "new_X_train = X_train.copy()\n",
        "new_y_train = y_train.copy()\n",
        "for i in range(int(count_to_add)):\n",
        "    new_X_train = np.concatenate((new_X_train, X_y1), axis=0)\n",
        "    new_y_train = np.concatenate((new_y_train, adding_y_train))"
      ],
      "execution_count": null,
      "outputs": []
    },
    {
      "cell_type": "markdown",
      "metadata": {
        "id": "kU1VdiKgWP_u"
      },
      "source": [
        "3. Let's shuffle the data  \n",
        "we have to shuffle the same way new_X_train and new_Y_train"
      ]
    },
    {
      "cell_type": "code",
      "metadata": {
        "id": "hO5wsB81WP_u"
      },
      "source": [
        "def unison_shuffled_copies(a, b):\n",
        "    assert len(a) == len(b)\n",
        "    p = np.random.permutation(len(a))\n",
        "    return a[p], b[p]"
      ],
      "execution_count": null,
      "outputs": []
    },
    {
      "cell_type": "code",
      "metadata": {
        "id": "68CHiMOoWP_u"
      },
      "source": [
        "new_Y_train, new_X_train = unison_shuffled_copies(new_y_train, new_X_train)"
      ],
      "execution_count": null,
      "outputs": []
    },
    {
      "cell_type": "markdown",
      "metadata": {
        "id": "-70nu5KvWP_v"
      },
      "source": [
        "### Training on the new training set\n"
      ]
    },
    {
      "cell_type": "code",
      "metadata": {
        "id": "rLJ4aobJWP_v",
        "outputId": "af153f0e-42b9-4de2-cc34-52409259b069"
      },
      "source": [
        "model2 = Sequential()\n",
        "\n",
        "img_shape = X_test[0].shape\n",
        "print(img_shape)\n",
        "\n",
        "model2.add(Dense(100, input_dim=17))\n",
        "model2.add(Activation('relu'))\n",
        "model2.add(Dense(200))\n",
        "model2.add(Activation('relu'))\n",
        "model2.add(Dense(200))\n",
        "model2.add(Dropout(0.3)) #to avoid overfitting\n",
        "model2.add(Activation('relu'))\n",
        "model2.add(Dense(100))\n",
        "model2.add(Activation('relu'))\n",
        "model2.add(Dense(20))\n",
        "model2.add(Activation('relu'))\n",
        "\n",
        "# classification\n",
        "model2.add(Dense(1, activation='sigmoid'))\n",
        "\n",
        "# Compile\n",
        "model2.compile(loss='binary_crossentropy', \n",
        "              optimizer=keras.optimizers.adam(), \n",
        "              metrics=[keras.metrics.Recall(), 'accuracy'])\n",
        "\n",
        "# Affichage des informations sur le réseau défini au-dessus\n",
        "model2.summary()"
      ],
      "execution_count": null,
      "outputs": [
        {
          "output_type": "stream",
          "text": [
            "(17,)\n",
            "Model: \"sequential_2\"\n",
            "_________________________________________________________________\n",
            "Layer (type)                 Output Shape              Param #   \n",
            "=================================================================\n",
            "dense_6 (Dense)              (None, 100)               1800      \n",
            "_________________________________________________________________\n",
            "activation_5 (Activation)    (None, 100)               0         \n",
            "_________________________________________________________________\n",
            "dense_7 (Dense)              (None, 200)               20200     \n",
            "_________________________________________________________________\n",
            "activation_6 (Activation)    (None, 200)               0         \n",
            "_________________________________________________________________\n",
            "dense_8 (Dense)              (None, 200)               40200     \n",
            "_________________________________________________________________\n",
            "dropout_1 (Dropout)          (None, 200)               0         \n",
            "_________________________________________________________________\n",
            "activation_7 (Activation)    (None, 200)               0         \n",
            "_________________________________________________________________\n",
            "dense_9 (Dense)              (None, 100)               20100     \n",
            "_________________________________________________________________\n",
            "activation_8 (Activation)    (None, 100)               0         \n",
            "_________________________________________________________________\n",
            "dense_10 (Dense)             (None, 20)                2020      \n",
            "_________________________________________________________________\n",
            "activation_9 (Activation)    (None, 20)                0         \n",
            "_________________________________________________________________\n",
            "dense_11 (Dense)             (None, 1)                 21        \n",
            "=================================================================\n",
            "Total params: 84,341\n",
            "Trainable params: 84,341\n",
            "Non-trainable params: 0\n",
            "_________________________________________________________________\n"
          ],
          "name": "stdout"
        }
      ]
    },
    {
      "cell_type": "code",
      "metadata": {
        "id": "kZWYcpYpWP_v",
        "outputId": "d1ecfa2f-f74b-460d-dbae-4f5ec0ef3624"
      },
      "source": [
        "history = model2.fit(new_X_train, new_y_train, batch_size=32, epochs = 85, verbose = 1)"
      ],
      "execution_count": null,
      "outputs": [
        {
          "output_type": "stream",
          "text": [
            "Epoch 1/85\n",
            "11749/11749 [==============================] - 2s 142us/step - loss: 0.6410 - recall_2: 0.0065 - accuracy: 0.6688\n",
            "Epoch 2/85\n",
            "11749/11749 [==============================] - 1s 90us/step - loss: 0.6355 - recall_2: 2.5806e-04 - accuracy: 0.6696\n",
            "Epoch 3/85\n",
            "11749/11749 [==============================] - 1s 90us/step - loss: 0.6345 - recall_2: 0.0000e+00 - accuracy: 0.6702\n",
            "Epoch 4/85\n",
            "11749/11749 [==============================] - 1s 90us/step - loss: 0.6332 - recall_2: 0.0000e+00 - accuracy: 0.6701\n",
            "Epoch 5/85\n",
            "11749/11749 [==============================] - 1s 90us/step - loss: 0.6321 - recall_2: 0.0000e+00 - accuracy: 0.6702\n",
            "Epoch 6/85\n",
            "11749/11749 [==============================] - 1s 90us/step - loss: 0.6313 - recall_2: 0.0000e+00 - accuracy: 0.6702\n",
            "Epoch 7/85\n",
            "11749/11749 [==============================] - 1s 90us/step - loss: 0.6299 - recall_2: 5.1613e-04 - accuracy: 0.6702\n",
            "Epoch 8/85\n",
            "11749/11749 [==============================] - 1s 91us/step - loss: 0.6285 - recall_2: 5.1613e-04 - accuracy: 0.6704\n",
            "Epoch 9/85\n",
            "11749/11749 [==============================] - 1s 91us/step - loss: 0.6275 - recall_2: 2.5806e-04 - accuracy: 0.6700\n",
            "Epoch 10/85\n",
            "11749/11749 [==============================] - 1s 90us/step - loss: 0.6268 - recall_2: 0.0041 - accuracy: 0.6704\n",
            "Epoch 11/85\n",
            "11749/11749 [==============================] - 1s 89us/step - loss: 0.6253 - recall_2: 0.0049 - accuracy: 0.6703\n",
            "Epoch 12/85\n",
            "11749/11749 [==============================] - ETA: 0s - loss: 0.6229 - recall_2: 0.0092 - accuracy: 0.670 - 1s 90us/step - loss: 0.6228 - recall_2: 0.0090 - accuracy: 0.6708\n",
            "Epoch 13/85\n",
            "11749/11749 [==============================] - 1s 94us/step - loss: 0.6214 - recall_2: 0.0196 - accuracy: 0.6707\n",
            "Epoch 14/85\n",
            "11749/11749 [==============================] - 1s 104us/step - loss: 0.6178 - recall_2: 0.0477 - accuracy: 0.6722\n",
            "Epoch 15/85\n",
            "11749/11749 [==============================] - 1s 116us/step - loss: 0.6155 - recall_2: 0.0694 - accuracy: 0.6755\n",
            "Epoch 16/85\n",
            "11749/11749 [==============================] - 1s 115us/step - loss: 0.6129 - recall_2: 0.0821 - accuracy: 0.6747\n",
            "Epoch 17/85\n",
            "11749/11749 [==============================] - 1s 115us/step - loss: 0.6073 - recall_2: 0.1324 - accuracy: 0.6805\n",
            "Epoch 18/85\n",
            "11749/11749 [==============================] - 1s 115us/step - loss: 0.6034 - recall_2: 0.1414 - accuracy: 0.6844\n",
            "Epoch 19/85\n",
            "11749/11749 [==============================] - 1s 115us/step - loss: 0.5987 - recall_2: 0.1853 - accuracy: 0.6901\n",
            "Epoch 20/85\n",
            "11749/11749 [==============================] - 1s 115us/step - loss: 0.5944 - recall_2: 0.1745 - accuracy: 0.6914\n",
            "Epoch 21/85\n",
            "11749/11749 [==============================] - 1s 115us/step - loss: 0.5892 - recall_2: 0.1961 - accuracy: 0.6955\n",
            "Epoch 22/85\n",
            "11749/11749 [==============================] - 1s 114us/step - loss: 0.5825 - recall_2: 0.2281 - accuracy: 0.7013\n",
            "Epoch 23/85\n",
            "11749/11749 [==============================] - 1s 115us/step - loss: 0.5743 - recall_2: 0.2346 - accuracy: 0.7077\n",
            "Epoch 24/85\n",
            "11749/11749 [==============================] - 1s 114us/step - loss: 0.5669 - recall_2: 0.2400 - accuracy: 0.7124\n",
            "Epoch 25/85\n",
            "11749/11749 [==============================] - 1s 114us/step - loss: 0.5601 - recall_2: 0.2614 - accuracy: 0.7161\n",
            "Epoch 26/85\n",
            "11749/11749 [==============================] - 1s 114us/step - loss: 0.5517 - recall_2: 0.2754 - accuracy: 0.7225\n",
            "Epoch 27/85\n",
            "11749/11749 [==============================] - 1s 120us/step - loss: 0.5416 - recall_2: 0.2867 - accuracy: 0.7276\n",
            "Epoch 28/85\n",
            "11749/11749 [==============================] - 1s 117us/step - loss: 0.5346 - recall_2: 0.2978 - accuracy: 0.7302\n",
            "Epoch 29/85\n",
            "11749/11749 [==============================] - 1s 127us/step - loss: 0.5252 - recall_2: 0.3187 - accuracy: 0.7363\n",
            "Epoch 30/85\n",
            "11749/11749 [==============================] - 2s 129us/step - loss: 0.5164 - recall_2: 0.3231 - accuracy: 0.7397\n",
            "Epoch 31/85\n",
            "11749/11749 [==============================] - 2s 130us/step - loss: 0.5073 - recall_2: 0.3412 - accuracy: 0.7470\n",
            "Epoch 32/85\n",
            "11749/11749 [==============================] - 2s 128us/step - loss: 0.5011 - recall_2: 0.3378 - accuracy: 0.7480\n",
            "Epoch 33/85\n",
            "11749/11749 [==============================] - 1s 119us/step - loss: 0.4947 - recall_2: 0.3365 - accuracy: 0.7488\n",
            "Epoch 34/85\n",
            "11749/11749 [==============================] - 1s 119us/step - loss: 0.4849 - recall_2: 0.3561 - accuracy: 0.7554\n",
            "Epoch 35/85\n",
            "11749/11749 [==============================] - 1s 118us/step - loss: 0.4821 - recall_2: 0.3592 - accuracy: 0.7591\n",
            "Epoch 36/85\n",
            "11749/11749 [==============================] - 1s 118us/step - loss: 0.4718 - recall_2: 0.3858 - accuracy: 0.7642\n",
            "Epoch 37/85\n",
            "11749/11749 [==============================] - 1s 120us/step - loss: 0.4632 - recall_2: 0.3961 - accuracy: 0.7672\n",
            "Epoch 38/85\n",
            "11749/11749 [==============================] - 1s 116us/step - loss: 0.4583 - recall_2: 0.4137 - accuracy: 0.7724\n",
            "Epoch 39/85\n",
            "11749/11749 [==============================] - 1s 127us/step - loss: 0.4538 - recall_2: 0.4168 - accuracy: 0.7780\n",
            "Epoch 40/85\n",
            "11749/11749 [==============================] - 1s 126us/step - loss: 0.4453 - recall_2: 0.4196 - accuracy: 0.7792\n",
            "Epoch 41/85\n",
            "11749/11749 [==============================] - 1s 125us/step - loss: 0.4399 - recall_2: 0.4292 - accuracy: 0.7835\n",
            "Epoch 42/85\n",
            "11749/11749 [==============================] - 1s 124us/step - loss: 0.4358 - recall_2: 0.4356 - accuracy: 0.7856\n",
            "Epoch 43/85\n",
            "11749/11749 [==============================] - 1s 126us/step - loss: 0.4307 - recall_2: 0.4490 - accuracy: 0.7882\n",
            "Epoch 44/85\n",
            "11749/11749 [==============================] - 1s 124us/step - loss: 0.4300 - recall_2: 0.4441 - accuracy: 0.7887\n",
            "Epoch 45/85\n",
            "11749/11749 [==============================] - 1s 127us/step - loss: 0.4172 - recall_2: 0.4635 - accuracy: 0.7959\n",
            "Epoch 46/85\n",
            "11749/11749 [==============================] - 2s 128us/step - loss: 0.4215 - recall_2: 0.4594 - accuracy: 0.7933\n",
            "Epoch 47/85\n",
            "11749/11749 [==============================] - 2s 129us/step - loss: 0.4023 - recall_2: 0.4782 - accuracy: 0.7991\n",
            "Epoch 48/85\n",
            "11749/11749 [==============================] - 1s 124us/step - loss: 0.4000 - recall_2: 0.4888 - accuracy: 0.8025\n",
            "Epoch 49/85\n",
            "11749/11749 [==============================] - 1s 124us/step - loss: 0.4100 - recall_2: 0.4715 - accuracy: 0.7995\n",
            "Epoch 50/85\n",
            "11749/11749 [==============================] - 1s 126us/step - loss: 0.4007 - recall_2: 0.4870 - accuracy: 0.8039\n",
            "Epoch 51/85\n",
            "11749/11749 [==============================] - 1s 127us/step - loss: 0.4004 - recall_2: 0.4950 - accuracy: 0.8051\n",
            "Epoch 52/85\n",
            "11749/11749 [==============================] - 1s 123us/step - loss: 0.3852 - recall_2: 0.5055 - accuracy: 0.8107\n",
            "Epoch 53/85\n",
            "11749/11749 [==============================] - 1s 119us/step - loss: 0.3810 - recall_2: 0.5081 - accuracy: 0.8124\n",
            "Epoch 54/85\n",
            "11749/11749 [==============================] - 2s 129us/step - loss: 0.3878 - recall_2: 0.4981 - accuracy: 0.8128\n",
            "Epoch 55/85\n",
            "11749/11749 [==============================] - 2s 130us/step - loss: 0.3777 - recall_2: 0.5081 - accuracy: 0.8136\n",
            "Epoch 56/85\n",
            "11749/11749 [==============================] - 1s 119us/step - loss: 0.3742 - recall_2: 0.5123 - accuracy: 0.8167\n",
            "Epoch 57/85\n",
            "11749/11749 [==============================] - 1s 118us/step - loss: 0.3706 - recall_2: 0.5174 - accuracy: 0.8186\n",
            "Epoch 58/85\n",
            "11749/11749 [==============================] - 1s 119us/step - loss: 0.3748 - recall_2: 0.5254 - accuracy: 0.8190\n",
            "Epoch 59/85\n",
            "11749/11749 [==============================] - 1s 119us/step - loss: 0.3697 - recall_2: 0.5174 - accuracy: 0.8157\n",
            "Epoch 60/85\n",
            "11749/11749 [==============================] - 1s 119us/step - loss: 0.3697 - recall_2: 0.5208 - accuracy: 0.8197\n",
            "Epoch 61/85\n",
            "11749/11749 [==============================] - 1s 121us/step - loss: 0.3541 - recall_2: 0.5293 - accuracy: 0.8232\n",
            "Epoch 62/85\n",
            "11749/11749 [==============================] - 1s 117us/step - loss: 0.3597 - recall_2: 0.5321 - accuracy: 0.8235\n",
            "Epoch 63/85\n",
            "11749/11749 [==============================] - 1s 115us/step - loss: 0.3559 - recall_2: 0.5417 - accuracy: 0.8277\n",
            "Epoch 64/85\n",
            "11749/11749 [==============================] - 1s 114us/step - loss: 0.3632 - recall_2: 0.5308 - accuracy: 0.8236\n",
            "Epoch 65/85\n"
          ],
          "name": "stdout"
        },
        {
          "output_type": "stream",
          "text": [
            "11749/11749 [==============================] - 1s 118us/step - loss: 0.3523 - recall_2: 0.5412 - accuracy: 0.8276\n",
            "Epoch 66/85\n",
            "11749/11749 [==============================] - 1s 115us/step - loss: 0.3478 - recall_2: 0.5494 - accuracy: 0.8300\n",
            "Epoch 67/85\n",
            "11749/11749 [==============================] - 1s 115us/step - loss: 0.3458 - recall_2: 0.5489 - accuracy: 0.8309\n",
            "Epoch 68/85\n",
            "11749/11749 [==============================] - 1s 117us/step - loss: 0.3515 - recall_2: 0.5412 - accuracy: 0.8295\n",
            "Epoch 69/85\n",
            "11749/11749 [==============================] - 1s 116us/step - loss: 0.3423 - recall_2: 0.5481 - accuracy: 0.8334\n",
            "Epoch 70/85\n",
            "11749/11749 [==============================] - 1s 120us/step - loss: 0.3413 - recall_2: 0.5559 - accuracy: 0.8331\n",
            "Epoch 71/85\n",
            "11749/11749 [==============================] - 1s 121us/step - loss: 0.3438 - recall_2: 0.5517 - accuracy: 0.8299\n",
            "Epoch 72/85\n",
            "11749/11749 [==============================] - 2s 134us/step - loss: 0.3439 - recall_2: 0.5574 - accuracy: 0.8336 1s - loss: 0.3179 - recall_2\n",
            "Epoch 73/85\n",
            "11749/11749 [==============================] - 1s 123us/step - loss: 0.3309 - recall_2: 0.5670 - accuracy: 0.8387\n",
            "Epoch 74/85\n",
            "11749/11749 [==============================] - 1s 119us/step - loss: 0.3249 - recall_2: 0.5755 - accuracy: 0.8412\n",
            "Epoch 75/85\n",
            "11749/11749 [==============================] - 1s 123us/step - loss: 0.3344 - recall_2: 0.5711 - accuracy: 0.8389\n",
            "Epoch 76/85\n",
            "11749/11749 [==============================] - 1s 120us/step - loss: 0.3347 - recall_2: 0.5615 - accuracy: 0.8362\n",
            "Epoch 77/85\n",
            "11749/11749 [==============================] - 1s 117us/step - loss: 0.3384 - recall_2: 0.5639 - accuracy: 0.8364\n",
            "Epoch 78/85\n",
            "11749/11749 [==============================] - 2s 131us/step - loss: 0.3240 - recall_2: 0.5786 - accuracy: 0.8414\n",
            "Epoch 79/85\n",
            "11749/11749 [==============================] - 1s 122us/step - loss: 0.3252 - recall_2: 0.5719 - accuracy: 0.8402\n",
            "Epoch 80/85\n",
            "11749/11749 [==============================] - 1s 120us/step - loss: 0.3147 - recall_2: 0.5799 - accuracy: 0.8453\n",
            "Epoch 81/85\n",
            "11749/11749 [==============================] - 1s 124us/step - loss: 0.3228 - recall_2: 0.5750 - accuracy: 0.8409\n",
            "Epoch 82/85\n",
            "11749/11749 [==============================] - 1s 124us/step - loss: 0.3220 - recall_2: 0.5750 - accuracy: 0.8430\n",
            "Epoch 83/85\n",
            "11749/11749 [==============================] - 1s 121us/step - loss: 0.3145 - recall_2: 0.5840 - accuracy: 0.8450\n",
            "Epoch 84/85\n",
            "11749/11749 [==============================] - 1s 118us/step - loss: 0.3094 - recall_2: 0.5933 - accuracy: 0.8489\n",
            "Epoch 85/85\n",
            "11749/11749 [==============================] - 1s 126us/step - loss: 0.3191 - recall_2: 0.5791 - accuracy: 0.8415\n"
          ],
          "name": "stdout"
        }
      ]
    },
    {
      "cell_type": "code",
      "metadata": {
        "id": "43MFzpggWP_v",
        "outputId": "ecdc3dbc-fe11-4daf-845a-c56af50e8e13"
      },
      "source": [
        "plt.figure(figsize=(11,3))\n",
        "\n",
        "# loss plot on the training set\n",
        "plt.subplot(1,3,1)\n",
        "plt.plot(history.epoch,history.history['loss'])\n",
        "plt.title('loss')\n",
        "\n",
        "# accuracy plot on the training set\n",
        "plt.subplot(1,3,2)\n",
        "plt.plot(history.epoch,history.history['recall_2'])\n",
        "plt.title('recall');\n",
        "\n",
        "# accuracy plot on the training set\n",
        "plt.subplot(1,3,3)\n",
        "plt.plot(history.epoch,history.history['accuracy'])\n",
        "plt.title('accuracy');"
      ],
      "execution_count": null,
      "outputs": [
        {
          "output_type": "display_data",
          "data": {
            "image/png": "[encoded data removed]",
            "text/plain": [
              "<Figure size 792x216 with 3 Axes>"
            ]
          },
          "metadata": {
            "tags": [],
            "needs_background": "light"
          }
        }
      ]
    },
    {
      "cell_type": "code",
      "metadata": {
        "id": "uCbJQeBWWP_w",
        "outputId": "857aa098-4056-4522-bcd2-c4d8e34ddcbb"
      },
      "source": [
        "predictions = model2.predict(new_X_train)\n",
        "\n",
        "y_pred = predictions > 0.5\n",
        "[tn, fp, fn, tp] = confusion_matrix(new_y_train, y_pred).ravel()\n",
        "print('on the training dataset :\\n [[TN, FP]\\n [ FN, TP]]\\n  =  \\n', np.array([[tn, fp],[ fn, tp]]))\n",
        "\n",
        "print(\"accuracy:\", (tn + tp)/(tn+fn+tp+fp))"
      ],
      "execution_count": null,
      "outputs": [
        {
          "output_type": "stream",
          "text": [
            "on the training dataset :\n",
            " [[TN, FP]\n",
            " [ FN, TP]]\n",
            "  =  \n",
            " [[7794   80]\n",
            " [1500 2375]]\n",
            "accuracy: 0.8655204698272193\n"
          ],
          "name": "stdout"
        }
      ]
    },
    {
      "cell_type": "code",
      "metadata": {
        "id": "9QYrb1HyWP_w",
        "outputId": "023d21f5-07ee-4c03-91e6-7f9447f298b0"
      },
      "source": [
        "predictions = model2.predict(X_test)\n",
        "\n",
        "y_pred = predictions > 0.5\n",
        "[tn, fp, fn, tp] = confusion_matrix(y_test, y_pred).ravel()\n",
        "print('on the training dataset :\\n [[TN, FP]\\n [ FN, TP]]\\n  =  \\n', np.array([[tn, fp],[ fn, tp]]))\n",
        "\n",
        "print(\"accuracy:\", (tn + tp)/(tn+fn+tp+fp))"
      ],
      "execution_count": null,
      "outputs": [
        {
          "output_type": "stream",
          "text": [
            "on the training dataset :\n",
            " [[TN, FP]\n",
            " [ FN, TP]]\n",
            "  =  \n",
            " [[1402  574]\n",
            " [  19    5]]\n",
            "accuracy: 0.7035\n"
          ],
          "name": "stdout"
        }
      ]
    },
    {
      "cell_type": "markdown",
      "metadata": {
        "id": "8vxXKoj7WP_w"
      },
      "source": [
        "### Conclusion\n",
        "The neural network doesn't work very well. Even on the training set, it doesn't have a better accuracy than 90%. I tried with a larger model (more layers with more neurons) but it didn't work neither.\n",
        "\n",
        "I think maybe it could be interesting to study the correlation between y and the other attributes."
      ]
    },
    {
      "cell_type": "markdown",
      "metadata": {
        "id": "RigyTMD3WP_w"
      },
      "source": [
        "### Study of the correlation"
      ]
    },
    {
      "cell_type": "code",
      "metadata": {
        "id": "72sk0AUOWP_w",
        "outputId": "ec1fd9ca-1285-4d25-cc9e-123f0aa53842"
      },
      "source": [
        "plt.figure(figsize=(11,20))\n",
        "\n",
        "# loss plot on the training set\n",
        "plt.subplot(1,3,1)\n",
        "\n",
        "for i in range(17):\n",
        "    plt.subplot(6,3,i+1)\n",
        "    plt.scatter(x_data[:,i], y_data)\n",
        "    plt.xlabel(labels[i])\n",
        "    plt.ylabel('y')"
      ],
      "execution_count": null,
      "outputs": [
        {
          "output_type": "display_data",
          "data": {
            "image/png": "[encoded data removed]",
            "text/plain": [
              "<Figure size 792x1440 with 17 Axes>"
            ]
          },
          "metadata": {
            "tags": [],
            "needs_background": "light"
          }
        }
      ]
    },
    {
      "cell_type": "markdown",
      "metadata": {
        "id": "pc6IyE0xWP_x"
      },
      "source": [
        "We can see that some attributes seem to be correlated with Y (for exemple 'User attribute 8', 'User attribute 5...) (its a good news because they have to be correlated if you want to predict Y)\n",
        "\n",
        "However, I think the difficulty is that :\n",
        "\n",
        "with some attributes, with some specific values, we can see that Y=0 has a better probability\n",
        "but we cannot find some values of attributes where the probability of Y=1 has a better probability of Y=0."
      ]
    },
    {
      "cell_type": "markdown",
      "metadata": {
        "id": "NMbM9NQxWP_x"
      },
      "source": [
        "## let's try an SVM"
      ]
    },
    {
      "cell_type": "code",
      "metadata": {
        "id": "Upr487KaWP_x",
        "outputId": "bfd5d1c2-5ab6-442b-9db5-88729994cf30"
      },
      "source": [
        "from sklearn import svm\n",
        "\n",
        "# I set class_weight to 'balanced' to precise to svm that the data are unbalanced.\n",
        "clf = svm.SVC(class_weight='balanced', gamma='scale', tol = 0.0001, kernel = 'rbf')  \n",
        "clf.fit(X_train, y_train)"
      ],
      "execution_count": null,
      "outputs": [
        {
          "output_type": "execute_result",
          "data": {
            "text/plain": [
              "SVC(C=1.0, cache_size=200, class_weight='balanced', coef0=0.0,\n",
              "    decision_function_shape='ovr', degree=3, gamma='scale', kernel='rbf',\n",
              "    max_iter=-1, probability=False, random_state=None, shrinking=True,\n",
              "    tol=0.0001, verbose=False)"
            ]
          },
          "metadata": {
            "tags": []
          },
          "execution_count": 32
        }
      ]
    },
    {
      "cell_type": "code",
      "metadata": {
        "id": "GlLx_MckWP_x"
      },
      "source": [
        "prediction3=clf.predict(X_test)"
      ],
      "execution_count": null,
      "outputs": []
    },
    {
      "cell_type": "code",
      "metadata": {
        "id": "XDKTxH3FWP_x",
        "outputId": "f4f071e3-6514-4fd3-9e0c-f795e8552460"
      },
      "source": [
        "# on the training dataset\n",
        "prediction=clf.predict(X_train)\n",
        "y_pred = prediction\n",
        "[tn, fp, fn, tp] = confusion_matrix(y_train, y_pred).ravel()\n",
        "print('on the training dataset :\\n [[TN, FP]\\n [ FN, TP]]\\n  =  \\n', np.array([[tn, fp],[ fn, tp]]))\n",
        "print(\"accuracy:\", (tn + tp)/(tn+fn+tp+fp))"
      ],
      "execution_count": null,
      "outputs": [
        {
          "output_type": "stream",
          "text": [
            "on the training dataset :\n",
            " [[TN, FP]\n",
            " [ FN, TP]]\n",
            "  =  \n",
            " [[6484 1390]\n",
            " [   7  118]]\n",
            "accuracy: 0.8253531691461433\n"
          ],
          "name": "stdout"
        }
      ]
    },
    {
      "cell_type": "code",
      "metadata": {
        "id": "iNCOWx33WP_y",
        "outputId": "1b4a4eea-378b-4bda-b097-c449f57c0b85"
      },
      "source": [
        "# on the testing dataset\n",
        "prediction=clf.predict(X_test)\n",
        "y_pred = prediction\n",
        "[tn, fp, fn, tp] = confusion_matrix(y_test, y_pred).ravel()\n",
        "print('on the testing dataset :\\n [[TN, FP]\\n [ FN, TP]]\\n  =  \\n', np.array([[tn, fp],[ fn, tp]]))\n",
        "print(\"accuracy:\", (tn + tp)/(tn+fn+tp+fp))"
      ],
      "execution_count": null,
      "outputs": [
        {
          "output_type": "stream",
          "text": [
            "on the testing dataset :\n",
            " [[TN, FP]\n",
            " [ FN, TP]]\n",
            "  =  \n",
            " [[1573  403]\n",
            " [  17    7]]\n",
            "accuracy: 0.79\n"
          ],
          "name": "stdout"
        }
      ]
    },
    {
      "cell_type": "markdown",
      "metadata": {
        "id": "txGguLNbWP_y"
      },
      "source": [
        "I tried different possible kernel for the svm.  \n",
        "Here are the results that I obtained:  \n",
        "\n",
        "| kernel | acc(X_train) | acc(X_test) |\n",
        "| --- | --- | --- |\n",
        "| 'poly' | 0.796 | 0.7745 |\n",
        "| 'sigmoid' | 0.5543 | 0.5785 |\n",
        "| 'linear' | 0.6337 | 0.638 |\n",
        "| 'rbf' | 0.8253 | 0.79 |\n",
        "\n",
        "  \n",
        "So, the best result here is with kernel = 'rbf'"
      ]
    },
    {
      "cell_type": "markdown",
      "metadata": {
        "id": "qz_V73HSWP_y"
      },
      "source": [
        "# Conclusion"
      ]
    },
    {
      "cell_type": "markdown",
      "metadata": {
        "id": "11_THuPRWP_y"
      },
      "source": [
        "Personnaly, I am not satisfied of the differet models that I have.  \n",
        "If we want a better accuracy, we can obtain 98%, but these models only predict y=0 so it is not interesting.  \n",
        "  \n",
        "We have obtained 2 other models, the first one with (it can change a little bit):  \n",
        "* accuracy = 0.7505  \n",
        "* tp = 4  \n",
        "* tn = 1497  \n",
        "* fp = 479  \n",
        "* fn = 20  \n",
        "\n",
        "the other model, by svm, we have obtained:\n",
        "* accuracy = 0.79  \n",
        "* tp = 7  \n",
        "* tn = 1573  \n",
        "* fp = 403  \n",
        "* fn = 17  \n",
        "\n",
        "If we considere that the most important is to detect the tp then it seems that our best model is from the SVM.\n"
      ]
    },
    {
      "cell_type": "code",
      "metadata": {
        "id": "ByxTz601WP_y"
      },
      "source": [
        ""
      ],
      "execution_count": null,
      "outputs": []
    }
  ]
}